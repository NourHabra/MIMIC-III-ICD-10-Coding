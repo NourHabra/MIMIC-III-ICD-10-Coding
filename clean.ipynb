{
 "cells": [
  {
   "cell_type": "code",
   "execution_count": 1,
   "id": "7d9b8e97",
   "metadata": {},
   "outputs": [],
   "source": [
    "import pandas as pd"
   ]
  },
  {
   "cell_type": "code",
   "execution_count": 4,
   "id": "0080c755",
   "metadata": {},
   "outputs": [],
   "source": [
    "data_path = \"./mimic-iii-clinical-database-1.4\""
   ]
  },
  {
   "cell_type": "code",
   "execution_count": 5,
   "id": "1000bf1c",
   "metadata": {},
   "outputs": [
    {
     "name": "stderr",
     "output_type": "stream",
     "text": [
      "C:\\Users\\NourH\\AppData\\Local\\Temp\\ipykernel_5780\\2913900359.py:3: DtypeWarning: Columns (4,5) have mixed types. Specify dtype option on import or set low_memory=False.\n",
      "  noteevents = pd.read_csv(f\"{data_path}/NOTEEVENTS.csv\")\n"
     ]
    }
   ],
   "source": [
    "# Load the necessary tables\n",
    "admissions = pd.read_csv(f\"{data_path}/ADMISSIONS.csv\")\n",
    "noteevents = pd.read_csv(f\"{data_path}/NOTEEVENTS.csv\")\n",
    "diagnoses_icd = pd.read_csv(f\"{data_path}/DIAGNOSES_ICD.csv\")\n",
    "d_icd_diagnoses = pd.read_csv(f\"{data_path}/D_ICD_DIAGNOSES.csv\")"
   ]
  },
  {
   "cell_type": "code",
   "execution_count": 10,
   "id": "2cd04309",
   "metadata": {},
   "outputs": [],
   "source": [
    "d_icd_diagnoses = d_icd_diagnoses.drop(columns=[\"ROW_ID\"])"
   ]
  },
  {
   "cell_type": "code",
   "execution_count": 6,
   "id": "ef76cab6",
   "metadata": {},
   "outputs": [],
   "source": [
    "# Step 1: Filter only discharge summaries\n",
    "discharge_notes = noteevents[noteevents[\"CATEGORY\"] == \"Discharge summary\"]"
   ]
  },
  {
   "cell_type": "code",
   "execution_count": 7,
   "id": "a545caf4",
   "metadata": {},
   "outputs": [],
   "source": [
    "# Step 2: Join discharge notes with admissions to get structured info\n",
    "notes_with_adm = pd.merge(discharge_notes, admissions, on=[\"SUBJECT_ID\", \"HADM_ID\"], how=\"inner\")"
   ]
  },
  {
   "cell_type": "code",
   "execution_count": 8,
   "id": "f8b1f019",
   "metadata": {},
   "outputs": [],
   "source": [
    "# Step 3: Join with diagnosis codes\n",
    "notes_with_diag = pd.merge(notes_with_adm, diagnoses_icd, on=[\"SUBJECT_ID\", \"HADM_ID\"], how=\"left\")"
   ]
  },
  {
   "cell_type": "code",
   "execution_count": 11,
   "id": "440a1b3e",
   "metadata": {},
   "outputs": [],
   "source": [
    "# Step 4: Join with ICD code descriptions\n",
    "notes_with_diag = pd.merge(notes_with_diag, d_icd_diagnoses, on=\"ICD9_CODE\", how=\"left\")"
   ]
  },
  {
   "cell_type": "code",
   "execution_count": 15,
   "id": "a2784523",
   "metadata": {},
   "outputs": [],
   "source": [
    "# Step 5: Select a few columns to display\n",
    "selected_columns = notes_with_diag[[\n",
    "    \"SUBJECT_ID\", \"CATEGORY\", \"HADM_ID\", \"ADMITTIME\", \"DISCHTIME\", \"TEXT\", \"ICD9_CODE\", \"SHORT_TITLE\", \"LONG_TITLE\"\n",
    "]]"
   ]
  },
  {
   "cell_type": "code",
   "execution_count": 20,
   "id": "5818a9a8",
   "metadata": {},
   "outputs": [
    {
     "data": {
      "text/html": [
       "<div>\n",
       "<style scoped>\n",
       "    .dataframe tbody tr th:only-of-type {\n",
       "        vertical-align: middle;\n",
       "    }\n",
       "\n",
       "    .dataframe tbody tr th {\n",
       "        vertical-align: top;\n",
       "    }\n",
       "\n",
       "    .dataframe thead th {\n",
       "        text-align: right;\n",
       "    }\n",
       "</style>\n",
       "<table border=\"1\" class=\"dataframe\">\n",
       "  <thead>\n",
       "    <tr style=\"text-align: right;\">\n",
       "      <th></th>\n",
       "      <th>SUBJECT_ID</th>\n",
       "      <th>CATEGORY</th>\n",
       "      <th>HADM_ID</th>\n",
       "      <th>ADMITTIME</th>\n",
       "      <th>DISCHTIME</th>\n",
       "      <th>TEXT</th>\n",
       "      <th>ICD9_CODE</th>\n",
       "      <th>SHORT_TITLE</th>\n",
       "      <th>LONG_TITLE</th>\n",
       "    </tr>\n",
       "  </thead>\n",
       "  <tbody>\n",
       "    <tr>\n",
       "      <th>0</th>\n",
       "      <td>22532</td>\n",
       "      <td>Discharge summary</td>\n",
       "      <td>167853.0</td>\n",
       "      <td>2151-07-16 14:29:00</td>\n",
       "      <td>2151-08-04 19:10:00</td>\n",
       "      <td>Admission Date:  [**2151-7-16**]       Dischar...</td>\n",
       "      <td>01193</td>\n",
       "      <td>Pulmon TB NOS-micro dx</td>\n",
       "      <td>Pulmonary tuberculosis, unspecified, tubercle ...</td>\n",
       "    </tr>\n",
       "    <tr>\n",
       "      <th>1</th>\n",
       "      <td>22532</td>\n",
       "      <td>Discharge summary</td>\n",
       "      <td>167853.0</td>\n",
       "      <td>2151-07-16 14:29:00</td>\n",
       "      <td>2151-08-04 19:10:00</td>\n",
       "      <td>Admission Date:  [**2151-7-16**]       Dischar...</td>\n",
       "      <td>4254</td>\n",
       "      <td>Prim cardiomyopathy NEC</td>\n",
       "      <td>Other primary cardiomyopathies</td>\n",
       "    </tr>\n",
       "    <tr>\n",
       "      <th>2</th>\n",
       "      <td>22532</td>\n",
       "      <td>Discharge summary</td>\n",
       "      <td>167853.0</td>\n",
       "      <td>2151-07-16 14:29:00</td>\n",
       "      <td>2151-08-04 19:10:00</td>\n",
       "      <td>Admission Date:  [**2151-7-16**]       Dischar...</td>\n",
       "      <td>42731</td>\n",
       "      <td>Atrial fibrillation</td>\n",
       "      <td>Atrial fibrillation</td>\n",
       "    </tr>\n",
       "  </tbody>\n",
       "</table>\n",
       "</div>"
      ],
      "text/plain": [
       "   SUBJECT_ID           CATEGORY   HADM_ID            ADMITTIME  \\\n",
       "0       22532  Discharge summary  167853.0  2151-07-16 14:29:00   \n",
       "1       22532  Discharge summary  167853.0  2151-07-16 14:29:00   \n",
       "2       22532  Discharge summary  167853.0  2151-07-16 14:29:00   \n",
       "\n",
       "             DISCHTIME                                               TEXT  \\\n",
       "0  2151-08-04 19:10:00  Admission Date:  [**2151-7-16**]       Dischar...   \n",
       "1  2151-08-04 19:10:00  Admission Date:  [**2151-7-16**]       Dischar...   \n",
       "2  2151-08-04 19:10:00  Admission Date:  [**2151-7-16**]       Dischar...   \n",
       "\n",
       "  ICD9_CODE              SHORT_TITLE  \\\n",
       "0     01193   Pulmon TB NOS-micro dx   \n",
       "1      4254  Prim cardiomyopathy NEC   \n",
       "2     42731      Atrial fibrillation   \n",
       "\n",
       "                                          LONG_TITLE  \n",
       "0  Pulmonary tuberculosis, unspecified, tubercle ...  \n",
       "1                     Other primary cardiomyopathies  \n",
       "2                                Atrial fibrillation  "
      ]
     },
     "execution_count": 20,
     "metadata": {},
     "output_type": "execute_result"
    }
   ],
   "source": [
    "# Show a few example records\n",
    "pd.set_option('display.max_colwidth', 50)\n",
    "selected_columns.head(3)"
   ]
  },
  {
   "cell_type": "code",
   "execution_count": 21,
   "id": "538e6049",
   "metadata": {},
   "outputs": [],
   "source": [
    "# Step 4: Keep only the first ICD code per admission\n",
    "notes_with_diag = notes_with_diag.sort_values([\"SUBJECT_ID\", \"HADM_ID\", \"SEQ_NUM\"]) \n",
    "notes_with_diag = notes_with_diag.drop_duplicates(subset=[\"HADM_ID\"], keep=\"first\")"
   ]
  },
  {
   "cell_type": "code",
   "execution_count": 23,
   "id": "26caa821",
   "metadata": {},
   "outputs": [],
   "source": [
    "# Step 5: Merge with ICD-9 code descriptions\n",
    "notes_with_diag = pd.merge(notes_with_diag, d_icd_diagnoses, on=\"ICD9_CODE\", how=\"left\")"
   ]
  },
  {
   "cell_type": "code",
   "execution_count": 28,
   "id": "2a82d3e2",
   "metadata": {},
   "outputs": [],
   "source": [
    "# Step 6: Select relevant columns\n",
    "final_df = notes_with_diag[[\n",
    "    \"SUBJECT_ID\", \"HADM_ID\", \"ICD9_CODE\", \"TEXT\"\n",
    "]]"
   ]
  },
  {
   "cell_type": "code",
   "execution_count": 31,
   "id": "f23ebafe",
   "metadata": {},
   "outputs": [
    {
     "data": {
      "text/html": [
       "<div>\n",
       "<style scoped>\n",
       "    .dataframe tbody tr th:only-of-type {\n",
       "        vertical-align: middle;\n",
       "    }\n",
       "\n",
       "    .dataframe tbody tr th {\n",
       "        vertical-align: top;\n",
       "    }\n",
       "\n",
       "    .dataframe thead th {\n",
       "        text-align: right;\n",
       "    }\n",
       "</style>\n",
       "<table border=\"1\" class=\"dataframe\">\n",
       "  <thead>\n",
       "    <tr style=\"text-align: right;\">\n",
       "      <th></th>\n",
       "      <th>SUBJECT_ID</th>\n",
       "      <th>HADM_ID</th>\n",
       "      <th>ICD9_CODE</th>\n",
       "      <th>TEXT</th>\n",
       "    </tr>\n",
       "  </thead>\n",
       "  <tbody>\n",
       "    <tr>\n",
       "      <th>0</th>\n",
       "      <td>3</td>\n",
       "      <td>145834.0</td>\n",
       "      <td>0389</td>\n",
       "      <td>Admission Date:  [**2101-10-20**]     Discharge Date:  [**2101-10-31**]\\n\\nDate of Birth:   [**2025-4-11**]     Sex:  M\\n\\nService:  Medicine\\n\\nCHIEF COMPLAINT:  Admitted from rehabilitation for\\nhypotension (systolic blood pressure to the 70s) and\\ndecreased urine output.\\n\\nHISTORY OF PRESENT ILLNESS:  The patient is a 76-year-old\\nmale who had been hospitalized at the [**Hospital1 190**] from [**10-11**] through [**10-19**] of [**2101**]\\nafter undergoing a left femoral-AT bypass graft a...</td>\n",
       "    </tr>\n",
       "    <tr>\n",
       "      <th>1</th>\n",
       "      <td>4</td>\n",
       "      <td>185777.0</td>\n",
       "      <td>042</td>\n",
       "      <td>Admission Date:  [**2191-3-16**]     Discharge Date:  [**2191-3-23**]\\n\\nDate of Birth:   [**2143-5-12**]     Sex:  F\\n\\nService:\\n\\nCHIEF COMPLAINT:  Shortness of breath and fevers.\\n\\nHISTORY OF PRESENT ILLNESS:  The patient is a 47-year-old\\nfemale with a history of human immunodeficiency virus (last\\nCD4 count 42 and a viral load of 65,000), cirrhosis,\\ndiabetes, and hypothyroidism presented with eight days of\\nfevers to 104, chills, shortness of breath, cough, dyspnea on\\nexertion, and ...</td>\n",
       "    </tr>\n",
       "    <tr>\n",
       "      <th>2</th>\n",
       "      <td>6</td>\n",
       "      <td>107064.0</td>\n",
       "      <td>40391</td>\n",
       "      <td>Admission Date: [**2175-5-30**]        Discharge Date:  [**2175-6-15**]\\n\\nDate of Birth:                    Sex:  F\\n\\nService:\\n\\n\\nADMISSION DIAGNOSIS:  End stage renal disease, admitted for\\ntransplant surgery.\\n\\nHISTORY OF PRESENT ILLNESS:  The patient is a 65 year-old\\nwoman with end stage renal disease, secondary to malignant\\nhypertension. She was started on dialysis in [**2174-2-7**].  She currently was on peritoneal dialysis and appears\\nto be doing well.  She has a history of gas...</td>\n",
       "    </tr>\n",
       "  </tbody>\n",
       "</table>\n",
       "</div>"
      ],
      "text/plain": [
       "   SUBJECT_ID   HADM_ID ICD9_CODE  \\\n",
       "0           3  145834.0      0389   \n",
       "1           4  185777.0       042   \n",
       "2           6  107064.0     40391   \n",
       "\n",
       "                                                                                                                                                                                                                                                                                                                                                                                                                                                                                                                  TEXT  \n",
       "0  Admission Date:  [**2101-10-20**]     Discharge Date:  [**2101-10-31**]\\n\\nDate of Birth:   [**2025-4-11**]     Sex:  M\\n\\nService:  Medicine\\n\\nCHIEF COMPLAINT:  Admitted from rehabilitation for\\nhypotension (systolic blood pressure to the 70s) and\\ndecreased urine output.\\n\\nHISTORY OF PRESENT ILLNESS:  The patient is a 76-year-old\\nmale who had been hospitalized at the [**Hospital1 190**] from [**10-11**] through [**10-19**] of [**2101**]\\nafter undergoing a left femoral-AT bypass graft a...  \n",
       "1  Admission Date:  [**2191-3-16**]     Discharge Date:  [**2191-3-23**]\\n\\nDate of Birth:   [**2143-5-12**]     Sex:  F\\n\\nService:\\n\\nCHIEF COMPLAINT:  Shortness of breath and fevers.\\n\\nHISTORY OF PRESENT ILLNESS:  The patient is a 47-year-old\\nfemale with a history of human immunodeficiency virus (last\\nCD4 count 42 and a viral load of 65,000), cirrhosis,\\ndiabetes, and hypothyroidism presented with eight days of\\nfevers to 104, chills, shortness of breath, cough, dyspnea on\\nexertion, and ...  \n",
       "2  Admission Date: [**2175-5-30**]        Discharge Date:  [**2175-6-15**]\\n\\nDate of Birth:                    Sex:  F\\n\\nService:\\n\\n\\nADMISSION DIAGNOSIS:  End stage renal disease, admitted for\\ntransplant surgery.\\n\\nHISTORY OF PRESENT ILLNESS:  The patient is a 65 year-old\\nwoman with end stage renal disease, secondary to malignant\\nhypertension. She was started on dialysis in [**2174-2-7**].  She currently was on peritoneal dialysis and appears\\nto be doing well.  She has a history of gas...  "
      ]
     },
     "execution_count": 31,
     "metadata": {},
     "output_type": "execute_result"
    }
   ],
   "source": [
    "# Show example records\n",
    "pd.set_option('display.max_colwidth', 500)\n",
    "final_df.head(3)"
   ]
  },
  {
   "cell_type": "code",
   "execution_count": null,
   "id": "67d60f7b",
   "metadata": {},
   "outputs": [
    {
     "name": "stdout",
     "output_type": "stream",
     "text": [
      "Number of records: 52726\n"
     ]
    }
   ],
   "source": [
    "print(f\"Number of records: {final_df.shape[0]}\")\n",
    "print(f\"Number of features: {final_df.shape[1]}\")"
   ]
  },
  {
   "cell_type": "code",
   "execution_count": 36,
   "id": "5e9c9145",
   "metadata": {},
   "outputs": [],
   "source": [
    "# Keep only 'TEXT' and 'ICD9_CODE' columns\n",
    "final_df = notes_with_diag[[\"TEXT\", \"ICD9_CODE\"]]"
   ]
  },
  {
   "cell_type": "code",
   "execution_count": 37,
   "id": "b9d67ce2",
   "metadata": {},
   "outputs": [],
   "source": [
    "final_df = final_df.dropna(subset=[\"TEXT\", \"ICD9_CODE\"])"
   ]
  },
  {
   "cell_type": "code",
   "execution_count": 40,
   "id": "be7eafba",
   "metadata": {},
   "outputs": [
    {
     "data": {
      "text/html": [
       "<div>\n",
       "<style scoped>\n",
       "    .dataframe tbody tr th:only-of-type {\n",
       "        vertical-align: middle;\n",
       "    }\n",
       "\n",
       "    .dataframe tbody tr th {\n",
       "        vertical-align: top;\n",
       "    }\n",
       "\n",
       "    .dataframe thead th {\n",
       "        text-align: right;\n",
       "    }\n",
       "</style>\n",
       "<table border=\"1\" class=\"dataframe\">\n",
       "  <thead>\n",
       "    <tr style=\"text-align: right;\">\n",
       "      <th></th>\n",
       "      <th>TEXT</th>\n",
       "      <th>ICD9_CODE</th>\n",
       "    </tr>\n",
       "  </thead>\n",
       "  <tbody>\n",
       "    <tr>\n",
       "      <th>0</th>\n",
       "      <td>Admission Date:  [**2101-10-20**]     Discharge Date:  [**2101-10-31**]\\n\\nDate of Birth:   [**2025-4-11**]     Sex:  M\\n\\nService:  Medicine\\n\\nCHIEF COMPLAINT:  Admitted from rehabilitation for\\nhypotension (systolic blood pressure to the 70s) and\\ndecreased urine output.\\n\\nHISTORY OF PRESENT ILLNESS:  The patient is a 76-year-old\\nmale who had been hospitalized at the [**Hospital1 190**] from [**10-11**] through [**10-19**] of [**2101**]\\nafter undergoing a left femoral-AT bypass graft a...</td>\n",
       "      <td>0389</td>\n",
       "    </tr>\n",
       "    <tr>\n",
       "      <th>1</th>\n",
       "      <td>Admission Date:  [**2191-3-16**]     Discharge Date:  [**2191-3-23**]\\n\\nDate of Birth:   [**2143-5-12**]     Sex:  F\\n\\nService:\\n\\nCHIEF COMPLAINT:  Shortness of breath and fevers.\\n\\nHISTORY OF PRESENT ILLNESS:  The patient is a 47-year-old\\nfemale with a history of human immunodeficiency virus (last\\nCD4 count 42 and a viral load of 65,000), cirrhosis,\\ndiabetes, and hypothyroidism presented with eight days of\\nfevers to 104, chills, shortness of breath, cough, dyspnea on\\nexertion, and ...</td>\n",
       "      <td>042</td>\n",
       "    </tr>\n",
       "    <tr>\n",
       "      <th>2</th>\n",
       "      <td>Admission Date: [**2175-5-30**]        Discharge Date:  [**2175-6-15**]\\n\\nDate of Birth:                    Sex:  F\\n\\nService:\\n\\n\\nADMISSION DIAGNOSIS:  End stage renal disease, admitted for\\ntransplant surgery.\\n\\nHISTORY OF PRESENT ILLNESS:  The patient is a 65 year-old\\nwoman with end stage renal disease, secondary to malignant\\nhypertension. She was started on dialysis in [**2174-2-7**].  She currently was on peritoneal dialysis and appears\\nto be doing well.  She has a history of gas...</td>\n",
       "      <td>40391</td>\n",
       "    </tr>\n",
       "  </tbody>\n",
       "</table>\n",
       "</div>"
      ],
      "text/plain": [
       "                                                                                                                                                                                                                                                                                                                                                                                                                                                                                                                  TEXT  \\\n",
       "0  Admission Date:  [**2101-10-20**]     Discharge Date:  [**2101-10-31**]\\n\\nDate of Birth:   [**2025-4-11**]     Sex:  M\\n\\nService:  Medicine\\n\\nCHIEF COMPLAINT:  Admitted from rehabilitation for\\nhypotension (systolic blood pressure to the 70s) and\\ndecreased urine output.\\n\\nHISTORY OF PRESENT ILLNESS:  The patient is a 76-year-old\\nmale who had been hospitalized at the [**Hospital1 190**] from [**10-11**] through [**10-19**] of [**2101**]\\nafter undergoing a left femoral-AT bypass graft a...   \n",
       "1  Admission Date:  [**2191-3-16**]     Discharge Date:  [**2191-3-23**]\\n\\nDate of Birth:   [**2143-5-12**]     Sex:  F\\n\\nService:\\n\\nCHIEF COMPLAINT:  Shortness of breath and fevers.\\n\\nHISTORY OF PRESENT ILLNESS:  The patient is a 47-year-old\\nfemale with a history of human immunodeficiency virus (last\\nCD4 count 42 and a viral load of 65,000), cirrhosis,\\ndiabetes, and hypothyroidism presented with eight days of\\nfevers to 104, chills, shortness of breath, cough, dyspnea on\\nexertion, and ...   \n",
       "2  Admission Date: [**2175-5-30**]        Discharge Date:  [**2175-6-15**]\\n\\nDate of Birth:                    Sex:  F\\n\\nService:\\n\\n\\nADMISSION DIAGNOSIS:  End stage renal disease, admitted for\\ntransplant surgery.\\n\\nHISTORY OF PRESENT ILLNESS:  The patient is a 65 year-old\\nwoman with end stage renal disease, secondary to malignant\\nhypertension. She was started on dialysis in [**2174-2-7**].  She currently was on peritoneal dialysis and appears\\nto be doing well.  She has a history of gas...   \n",
       "\n",
       "  ICD9_CODE  \n",
       "0      0389  \n",
       "1       042  \n",
       "2     40391  "
      ]
     },
     "execution_count": 40,
     "metadata": {},
     "output_type": "execute_result"
    }
   ],
   "source": [
    "# Display a few records\n",
    "pd.set_option('display.max_colwidth', 500)\n",
    "final_df.head(3)"
   ]
  },
  {
   "cell_type": "code",
   "execution_count": 42,
   "id": "958d4274",
   "metadata": {},
   "outputs": [
    {
     "name": "stdout",
     "output_type": "stream",
     "text": [
      "Number of records: 52722\n",
      "Number of features: 2\n"
     ]
    }
   ],
   "source": [
    "print(f\"Number of records: {final_df.shape[0]}\")\n",
    "print(f\"Number of features: {final_df.shape[1]}\")"
   ]
  },
  {
   "cell_type": "code",
   "execution_count": 48,
   "id": "dad504a5",
   "metadata": {},
   "outputs": [],
   "source": [
    "final_df.to_csv(\"./data/discharge_icd_clean.csv\", index=False)"
   ]
  }
 ],
 "metadata": {
  "kernelspec": {
   "display_name": "Python 3",
   "language": "python",
   "name": "python3"
  },
  "language_info": {
   "codemirror_mode": {
    "name": "ipython",
    "version": 3
   },
   "file_extension": ".py",
   "mimetype": "text/x-python",
   "name": "python",
   "nbconvert_exporter": "python",
   "pygments_lexer": "ipython3",
   "version": "3.12.4"
  }
 },
 "nbformat": 4,
 "nbformat_minor": 5
}
