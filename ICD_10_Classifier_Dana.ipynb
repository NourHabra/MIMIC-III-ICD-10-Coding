{
 "cells": [
  {
   "cell_type": "code",
   "execution_count": 22,
   "metadata": {},
   "outputs": [],
   "source": [
    "import pandas as pd\n",
    "import torch\n",
    "from torch import nn\n",
    "from torch.utils.data import DataLoader, TensorDataset\n",
    "from sklearn.model_selection import train_test_split\n",
    "from sklearn.metrics import classification_report\n",
    "from transformers import AutoTokenizer, AutoModel"
   ]
  },
  {
   "cell_type": "code",
   "execution_count": 23,
   "metadata": {},
   "outputs": [
    {
     "name": "stdout",
     "output_type": "stream",
     "text": [
      "                                                text icd_code\n",
      "0  Admission Date:  [**2151-7-16**]       Dischar...    01193\n",
      "1  Admission Date:  [**2151-7-16**]       Dischar...     4254\n",
      "2  Admission Date:  [**2151-7-16**]       Dischar...    42731\n",
      "3  Admission Date:  [**2151-7-16**]       Dischar...     2639\n",
      "4  Admission Date:  [**2151-7-16**]       Dischar...     2762\n"
     ]
    }
   ],
   "source": [
    "\n",
    "df = pd.read_parquet('mimic_notes_icd_minimal.parquet')\n",
    "\n",
    "print(df.head())"
   ]
  },
  {
   "cell_type": "code",
   "execution_count": 24,
   "metadata": {},
   "outputs": [
    {
     "data": {
      "text/plain": [
       "0    Admission Date:  [**2151-7-16**]       Dischar...\n",
       "1    Admission Date:  [**2151-7-16**]       Dischar...\n",
       "2    Admission Date:  [**2151-7-16**]       Dischar...\n",
       "3    Admission Date:  [**2151-7-16**]       Dischar...\n",
       "4    Admission Date:  [**2151-7-16**]       Dischar...\n",
       "5    Admission Date:  [**2151-7-16**]       Dischar...\n",
       "6    Admission Date:  [**2151-7-16**]       Dischar...\n",
       "7    Admission Date:  [**2151-7-16**]       Dischar...\n",
       "8    Admission Date:  [**2118-6-2**]       Discharg...\n",
       "9    Admission Date:  [**2118-6-2**]       Discharg...\n",
       "Name: text, dtype: object"
      ]
     },
     "execution_count": 24,
     "metadata": {},
     "output_type": "execute_result"
    }
   ],
   "source": [
    "df['text'].head(10)"
   ]
  },
  {
   "cell_type": "code",
   "execution_count": 25,
   "metadata": {},
   "outputs": [
    {
     "data": {
      "text/plain": [
       "icd_code\n",
       "4019     22356\n",
       "4280     14903\n",
       "42731    14449\n",
       "41401    13783\n",
       "5849      9932\n",
       "25000     9812\n",
       "2724      9269\n",
       "51881     8263\n",
       "5990      7489\n",
       "53081     6729\n",
       "2720      6463\n",
       "2859      5865\n",
       "486       5351\n",
       "2449      5271\n",
       "2851      5077\n",
       "496       4906\n",
       "2762      4809\n",
       "5070      4247\n",
       "99592     4084\n",
       "V5861     4053\n",
       "0389      4001\n",
       "311       3667\n",
       "5859      3608\n",
       "40390     3601\n",
       "3051      3582\n",
       "412       3579\n",
       "41071     3497\n",
       "2875      3352\n",
       "2761      3333\n",
       "4240      3302\n",
       "V4581     3239\n",
       "5119      3152\n",
       "V1582     2980\n",
       "V4582     2939\n",
       "40391     2912\n",
       "4241      2903\n",
       "V5867     2725\n",
       "78552     2709\n",
       "9971      2696\n",
       "V290      2693\n",
       "42789     2669\n",
       "5845      2617\n",
       "32723     2502\n",
       "7742      2494\n",
       "5180      2468\n",
       "2760      2465\n",
       "45829     2341\n",
       "4168      2341\n",
       "2767      2317\n",
       "49390     2302\n",
       "Name: count, dtype: int64"
      ]
     },
     "execution_count": 25,
     "metadata": {},
     "output_type": "execute_result"
    }
   ],
   "source": [
    "df['icd_code'].value_counts().head(50)"
   ]
  },
  {
   "cell_type": "code",
   "execution_count": 26,
   "metadata": {},
   "outputs": [],
   "source": [
    "top_50_codes = df['icd_code'].value_counts().head(50).index\n",
    "\n",
    "filtered_df = df[df['icd_code'].isin(top_50_codes)]"
   ]
  },
  {
   "cell_type": "code",
   "execution_count": 27,
   "metadata": {},
   "outputs": [
    {
     "data": {
      "text/html": [
       "<div>\n",
       "<style scoped>\n",
       "    .dataframe tbody tr th:only-of-type {\n",
       "        vertical-align: middle;\n",
       "    }\n",
       "\n",
       "    .dataframe tbody tr th {\n",
       "        vertical-align: top;\n",
       "    }\n",
       "\n",
       "    .dataframe thead th {\n",
       "        text-align: right;\n",
       "    }\n",
       "</style>\n",
       "<table border=\"1\" class=\"dataframe\">\n",
       "  <thead>\n",
       "    <tr style=\"text-align: right;\">\n",
       "      <th></th>\n",
       "      <th>text</th>\n",
       "      <th>icd_code</th>\n",
       "    </tr>\n",
       "  </thead>\n",
       "  <tbody>\n",
       "    <tr>\n",
       "      <th>2</th>\n",
       "      <td>Admission Date:  [**2151-7-16**]       Dischar...</td>\n",
       "      <td>42731</td>\n",
       "    </tr>\n",
       "    <tr>\n",
       "      <th>4</th>\n",
       "      <td>Admission Date:  [**2151-7-16**]       Dischar...</td>\n",
       "      <td>2762</td>\n",
       "    </tr>\n",
       "    <tr>\n",
       "      <th>5</th>\n",
       "      <td>Admission Date:  [**2151-7-16**]       Dischar...</td>\n",
       "      <td>5070</td>\n",
       "    </tr>\n",
       "    <tr>\n",
       "      <th>6</th>\n",
       "      <td>Admission Date:  [**2151-7-16**]       Dischar...</td>\n",
       "      <td>5119</td>\n",
       "    </tr>\n",
       "    <tr>\n",
       "      <th>10</th>\n",
       "      <td>Admission Date:  [**2118-6-2**]       Discharg...</td>\n",
       "      <td>51881</td>\n",
       "    </tr>\n",
       "    <tr>\n",
       "      <th>...</th>\n",
       "      <td>...</td>\n",
       "      <td>...</td>\n",
       "    </tr>\n",
       "    <tr>\n",
       "      <th>692939</th>\n",
       "      <td>Name:  [**Known lastname **],[**Known firstnam...</td>\n",
       "      <td>2724</td>\n",
       "    </tr>\n",
       "    <tr>\n",
       "      <th>692941</th>\n",
       "      <td>Name:  [**Known lastname **],[**Known firstnam...</td>\n",
       "      <td>25000</td>\n",
       "    </tr>\n",
       "    <tr>\n",
       "      <th>692943</th>\n",
       "      <td>Name:  [**Known lastname **],[**Known firstnam...</td>\n",
       "      <td>45829</td>\n",
       "    </tr>\n",
       "    <tr>\n",
       "      <th>692948</th>\n",
       "      <td>Name:  [**Known lastname **],[**Known firstnam...</td>\n",
       "      <td>4241</td>\n",
       "    </tr>\n",
       "    <tr>\n",
       "      <th>692954</th>\n",
       "      <td>Name:  [**Known lastname 12459**],[**Known fir...</td>\n",
       "      <td>2851</td>\n",
       "    </tr>\n",
       "  </tbody>\n",
       "</table>\n",
       "<p>256097 rows × 2 columns</p>\n",
       "</div>"
      ],
      "text/plain": [
       "                                                     text icd_code\n",
       "2       Admission Date:  [**2151-7-16**]       Dischar...    42731\n",
       "4       Admission Date:  [**2151-7-16**]       Dischar...     2762\n",
       "5       Admission Date:  [**2151-7-16**]       Dischar...     5070\n",
       "6       Admission Date:  [**2151-7-16**]       Dischar...     5119\n",
       "10      Admission Date:  [**2118-6-2**]       Discharg...    51881\n",
       "...                                                   ...      ...\n",
       "692939  Name:  [**Known lastname **],[**Known firstnam...     2724\n",
       "692941  Name:  [**Known lastname **],[**Known firstnam...    25000\n",
       "692943  Name:  [**Known lastname **],[**Known firstnam...    45829\n",
       "692948  Name:  [**Known lastname **],[**Known firstnam...     4241\n",
       "692954  Name:  [**Known lastname 12459**],[**Known fir...     2851\n",
       "\n",
       "[256097 rows x 2 columns]"
      ]
     },
     "execution_count": 27,
     "metadata": {},
     "output_type": "execute_result"
    }
   ],
   "source": [
    "filtered_df"
   ]
  },
  {
   "cell_type": "code",
   "execution_count": 28,
   "metadata": {},
   "outputs": [
    {
     "data": {
      "text/html": [
       "<div>\n",
       "<style scoped>\n",
       "    .dataframe tbody tr th:only-of-type {\n",
       "        vertical-align: middle;\n",
       "    }\n",
       "\n",
       "    .dataframe tbody tr th {\n",
       "        vertical-align: top;\n",
       "    }\n",
       "\n",
       "    .dataframe thead th {\n",
       "        text-align: right;\n",
       "    }\n",
       "</style>\n",
       "<table border=\"1\" class=\"dataframe\">\n",
       "  <thead>\n",
       "    <tr style=\"text-align: right;\">\n",
       "      <th></th>\n",
       "      <th>text</th>\n",
       "      <th>icd_code</th>\n",
       "    </tr>\n",
       "  </thead>\n",
       "  <tbody>\n",
       "    <tr>\n",
       "      <th>0</th>\n",
       "      <td>Admission Date:  [**2151-7-16**]       Dischar...</td>\n",
       "      <td>01193</td>\n",
       "    </tr>\n",
       "    <tr>\n",
       "      <th>1</th>\n",
       "      <td>Admission Date:  [**2151-7-16**]       Dischar...</td>\n",
       "      <td>4254</td>\n",
       "    </tr>\n",
       "    <tr>\n",
       "      <th>2</th>\n",
       "      <td>Admission Date:  [**2151-7-16**]       Dischar...</td>\n",
       "      <td>42731</td>\n",
       "    </tr>\n",
       "    <tr>\n",
       "      <th>3</th>\n",
       "      <td>Admission Date:  [**2151-7-16**]       Dischar...</td>\n",
       "      <td>2639</td>\n",
       "    </tr>\n",
       "    <tr>\n",
       "      <th>4</th>\n",
       "      <td>Admission Date:  [**2151-7-16**]       Dischar...</td>\n",
       "      <td>2762</td>\n",
       "    </tr>\n",
       "    <tr>\n",
       "      <th>...</th>\n",
       "      <td>...</td>\n",
       "      <td>...</td>\n",
       "    </tr>\n",
       "    <tr>\n",
       "      <th>692961</th>\n",
       "      <td>Name:  [**Known lastname 12459**],[**Known fir...</td>\n",
       "      <td>5533</td>\n",
       "    </tr>\n",
       "    <tr>\n",
       "      <th>692962</th>\n",
       "      <td>Name:  [**Known lastname 12459**],[**Known fir...</td>\n",
       "      <td>2853</td>\n",
       "    </tr>\n",
       "    <tr>\n",
       "      <th>692963</th>\n",
       "      <td>Name:  [**Known lastname 12459**],[**Known fir...</td>\n",
       "      <td>28749</td>\n",
       "    </tr>\n",
       "    <tr>\n",
       "      <th>692964</th>\n",
       "      <td>Name:  [**Known lastname 12459**],[**Known fir...</td>\n",
       "      <td>E9331</td>\n",
       "    </tr>\n",
       "    <tr>\n",
       "      <th>692965</th>\n",
       "      <td>Name:  [**Known lastname 12459**],[**Known fir...</td>\n",
       "      <td>E9319</td>\n",
       "    </tr>\n",
       "  </tbody>\n",
       "</table>\n",
       "<p>692966 rows × 2 columns</p>\n",
       "</div>"
      ],
      "text/plain": [
       "                                                     text icd_code\n",
       "0       Admission Date:  [**2151-7-16**]       Dischar...    01193\n",
       "1       Admission Date:  [**2151-7-16**]       Dischar...     4254\n",
       "2       Admission Date:  [**2151-7-16**]       Dischar...    42731\n",
       "3       Admission Date:  [**2151-7-16**]       Dischar...     2639\n",
       "4       Admission Date:  [**2151-7-16**]       Dischar...     2762\n",
       "...                                                   ...      ...\n",
       "692961  Name:  [**Known lastname 12459**],[**Known fir...     5533\n",
       "692962  Name:  [**Known lastname 12459**],[**Known fir...     2853\n",
       "692963  Name:  [**Known lastname 12459**],[**Known fir...    28749\n",
       "692964  Name:  [**Known lastname 12459**],[**Known fir...    E9331\n",
       "692965  Name:  [**Known lastname 12459**],[**Known fir...    E9319\n",
       "\n",
       "[692966 rows x 2 columns]"
      ]
     },
     "execution_count": 28,
     "metadata": {},
     "output_type": "execute_result"
    }
   ],
   "source": [
    "df"
   ]
  },
  {
   "cell_type": "code",
   "execution_count": 29,
   "metadata": {},
   "outputs": [
    {
     "name": "stderr",
     "output_type": "stream",
     "text": [
      "C:\\Users\\ASUS\\AppData\\Local\\Temp\\ipykernel_25848\\2407929352.py:2: SettingWithCopyWarning: \n",
      "A value is trying to be set on a copy of a slice from a DataFrame.\n",
      "Try using .loc[row_indexer,col_indexer] = value instead\n",
      "\n",
      "See the caveats in the documentation: https://pandas.pydata.org/pandas-docs/stable/user_guide/indexing.html#returning-a-view-versus-a-copy\n",
      "  filtered_df[\"text\"] = filtered_df[\"text\"].str.lower().str.replace(r\"[^a-z0-9\\s]\", \"\", regex=True)\n"
     ]
    }
   ],
   "source": [
    "# to lower case\n",
    "filtered_df[\"text\"] = filtered_df[\"text\"].str.lower().str.replace(r\"[^a-z0-9\\s]\", \"\", regex=True)"
   ]
  },
  {
   "cell_type": "code",
   "execution_count": 30,
   "metadata": {},
   "outputs": [
    {
     "data": {
      "text/html": [
       "<div>\n",
       "<style scoped>\n",
       "    .dataframe tbody tr th:only-of-type {\n",
       "        vertical-align: middle;\n",
       "    }\n",
       "\n",
       "    .dataframe tbody tr th {\n",
       "        vertical-align: top;\n",
       "    }\n",
       "\n",
       "    .dataframe thead th {\n",
       "        text-align: right;\n",
       "    }\n",
       "</style>\n",
       "<table border=\"1\" class=\"dataframe\">\n",
       "  <thead>\n",
       "    <tr style=\"text-align: right;\">\n",
       "      <th></th>\n",
       "      <th>text</th>\n",
       "      <th>icd_code</th>\n",
       "    </tr>\n",
       "  </thead>\n",
       "  <tbody>\n",
       "    <tr>\n",
       "      <th>2</th>\n",
       "      <td>admission date  2151716       discharge date  ...</td>\n",
       "      <td>42731</td>\n",
       "    </tr>\n",
       "    <tr>\n",
       "      <th>4</th>\n",
       "      <td>admission date  2151716       discharge date  ...</td>\n",
       "      <td>2762</td>\n",
       "    </tr>\n",
       "    <tr>\n",
       "      <th>5</th>\n",
       "      <td>admission date  2151716       discharge date  ...</td>\n",
       "      <td>5070</td>\n",
       "    </tr>\n",
       "    <tr>\n",
       "      <th>6</th>\n",
       "      <td>admission date  2151716       discharge date  ...</td>\n",
       "      <td>5119</td>\n",
       "    </tr>\n",
       "    <tr>\n",
       "      <th>10</th>\n",
       "      <td>admission date  211862       discharge date  2...</td>\n",
       "      <td>51881</td>\n",
       "    </tr>\n",
       "    <tr>\n",
       "      <th>...</th>\n",
       "      <td>...</td>\n",
       "      <td>...</td>\n",
       "    </tr>\n",
       "    <tr>\n",
       "      <th>692939</th>\n",
       "      <td>name  known lastname known firstname 133 j    ...</td>\n",
       "      <td>2724</td>\n",
       "    </tr>\n",
       "    <tr>\n",
       "      <th>692941</th>\n",
       "      <td>name  known lastname known firstname 133 j    ...</td>\n",
       "      <td>25000</td>\n",
       "    </tr>\n",
       "    <tr>\n",
       "      <th>692943</th>\n",
       "      <td>name  known lastname known firstname 133 j    ...</td>\n",
       "      <td>45829</td>\n",
       "    </tr>\n",
       "    <tr>\n",
       "      <th>692948</th>\n",
       "      <td>name  known lastname known firstname 133 j    ...</td>\n",
       "      <td>4241</td>\n",
       "    </tr>\n",
       "    <tr>\n",
       "      <th>692954</th>\n",
       "      <td>name  known lastname 12459known firstname  a  ...</td>\n",
       "      <td>2851</td>\n",
       "    </tr>\n",
       "  </tbody>\n",
       "</table>\n",
       "<p>256097 rows × 2 columns</p>\n",
       "</div>"
      ],
      "text/plain": [
       "                                                     text icd_code\n",
       "2       admission date  2151716       discharge date  ...    42731\n",
       "4       admission date  2151716       discharge date  ...     2762\n",
       "5       admission date  2151716       discharge date  ...     5070\n",
       "6       admission date  2151716       discharge date  ...     5119\n",
       "10      admission date  211862       discharge date  2...    51881\n",
       "...                                                   ...      ...\n",
       "692939  name  known lastname known firstname 133 j    ...     2724\n",
       "692941  name  known lastname known firstname 133 j    ...    25000\n",
       "692943  name  known lastname known firstname 133 j    ...    45829\n",
       "692948  name  known lastname known firstname 133 j    ...     4241\n",
       "692954  name  known lastname 12459known firstname  a  ...     2851\n",
       "\n",
       "[256097 rows x 2 columns]"
      ]
     },
     "execution_count": 30,
     "metadata": {},
     "output_type": "execute_result"
    }
   ],
   "source": [
    "filtered_df"
   ]
  },
  {
   "cell_type": "code",
   "execution_count": 31,
   "metadata": {},
   "outputs": [
    {
     "data": {
      "text/html": [
       "<div>\n",
       "<style scoped>\n",
       "    .dataframe tbody tr th:only-of-type {\n",
       "        vertical-align: middle;\n",
       "    }\n",
       "\n",
       "    .dataframe tbody tr th {\n",
       "        vertical-align: top;\n",
       "    }\n",
       "\n",
       "    .dataframe thead th {\n",
       "        text-align: right;\n",
       "    }\n",
       "</style>\n",
       "<table border=\"1\" class=\"dataframe\">\n",
       "  <thead>\n",
       "    <tr style=\"text-align: right;\">\n",
       "      <th></th>\n",
       "      <th>text</th>\n",
       "      <th>icd_code</th>\n",
       "    </tr>\n",
       "  </thead>\n",
       "  <tbody>\n",
       "    <tr>\n",
       "      <th>0</th>\n",
       "      <td>admission date  2151716       discharge date  ...</td>\n",
       "      <td>42731</td>\n",
       "    </tr>\n",
       "    <tr>\n",
       "      <th>1</th>\n",
       "      <td>admission date  2151716       discharge date  ...</td>\n",
       "      <td>2762</td>\n",
       "    </tr>\n",
       "    <tr>\n",
       "      <th>2</th>\n",
       "      <td>admission date  2151716       discharge date  ...</td>\n",
       "      <td>5070</td>\n",
       "    </tr>\n",
       "    <tr>\n",
       "      <th>3</th>\n",
       "      <td>admission date  2151716       discharge date  ...</td>\n",
       "      <td>5119</td>\n",
       "    </tr>\n",
       "    <tr>\n",
       "      <th>4</th>\n",
       "      <td>admission date  211862       discharge date  2...</td>\n",
       "      <td>51881</td>\n",
       "    </tr>\n",
       "    <tr>\n",
       "      <th>...</th>\n",
       "      <td>...</td>\n",
       "      <td>...</td>\n",
       "    </tr>\n",
       "    <tr>\n",
       "      <th>256092</th>\n",
       "      <td>name  known lastname known firstname 133 j    ...</td>\n",
       "      <td>2724</td>\n",
       "    </tr>\n",
       "    <tr>\n",
       "      <th>256093</th>\n",
       "      <td>name  known lastname known firstname 133 j    ...</td>\n",
       "      <td>25000</td>\n",
       "    </tr>\n",
       "    <tr>\n",
       "      <th>256094</th>\n",
       "      <td>name  known lastname known firstname 133 j    ...</td>\n",
       "      <td>45829</td>\n",
       "    </tr>\n",
       "    <tr>\n",
       "      <th>256095</th>\n",
       "      <td>name  known lastname known firstname 133 j    ...</td>\n",
       "      <td>4241</td>\n",
       "    </tr>\n",
       "    <tr>\n",
       "      <th>256096</th>\n",
       "      <td>name  known lastname 12459known firstname  a  ...</td>\n",
       "      <td>2851</td>\n",
       "    </tr>\n",
       "  </tbody>\n",
       "</table>\n",
       "<p>256097 rows × 2 columns</p>\n",
       "</div>"
      ],
      "text/plain": [
       "                                                     text icd_code\n",
       "0       admission date  2151716       discharge date  ...    42731\n",
       "1       admission date  2151716       discharge date  ...     2762\n",
       "2       admission date  2151716       discharge date  ...     5070\n",
       "3       admission date  2151716       discharge date  ...     5119\n",
       "4       admission date  211862       discharge date  2...    51881\n",
       "...                                                   ...      ...\n",
       "256092  name  known lastname known firstname 133 j    ...     2724\n",
       "256093  name  known lastname known firstname 133 j    ...    25000\n",
       "256094  name  known lastname known firstname 133 j    ...    45829\n",
       "256095  name  known lastname known firstname 133 j    ...     4241\n",
       "256096  name  known lastname 12459known firstname  a  ...     2851\n",
       "\n",
       "[256097 rows x 2 columns]"
      ]
     },
     "execution_count": 31,
     "metadata": {},
     "output_type": "execute_result"
    }
   ],
   "source": [
    "# Reset the index after filtering\n",
    "filtered_df = filtered_df.reset_index(drop=True)\n",
    "filtered_df"
   ]
  },
  {
   "cell_type": "code",
   "execution_count": 32,
   "metadata": {},
   "outputs": [],
   "source": [
    "from sklearn.model_selection import train_test_split\n",
    "\n",
    "X_train, X_val, y_train, y_val = train_test_split(filtered_df[\"text\"], filtered_df[\"icd_code\"], test_size=0.2, random_state=42)\n"
   ]
  },
  {
   "cell_type": "markdown",
   "metadata": {},
   "source": [
    "### Prepare DataLoaders\n",
    "#### we need to map ICD-10 codes to indices for classification"
   ]
  },
  {
   "cell_type": "code",
   "execution_count": 34,
   "metadata": {},
   "outputs": [],
   "source": [
    "unique_codes = sorted(filtered_df[\"icd_code\"].unique())\n",
    "code_to_idx = {code: idx for idx, code in enumerate(unique_codes)}\n",
    "idx_to_code = {idx: code for code, idx in code_to_idx.items()}\n",
    "\n",
    "# Map original ICD codes to zero-indexed integers\n",
    "y_train_idx = y_train.map(code_to_idx)\n",
    "y_val_idx = y_val.map(code_to_idx)\n"
   ]
  },
  {
   "cell_type": "code",
   "execution_count": 33,
   "metadata": {},
   "outputs": [
    {
     "data": {
      "text/plain": [
       "{'0389': 0,\n",
       " '2449': 1,\n",
       " '25000': 2,\n",
       " '2720': 3,\n",
       " '2724': 4,\n",
       " '2760': 5,\n",
       " '2761': 6,\n",
       " '2762': 7,\n",
       " '2767': 8,\n",
       " '2851': 9,\n",
       " '2859': 10,\n",
       " '2875': 11,\n",
       " '3051': 12,\n",
       " '311': 13,\n",
       " '32723': 14,\n",
       " '4019': 15,\n",
       " '40390': 16,\n",
       " '40391': 17,\n",
       " '41071': 18,\n",
       " '412': 19,\n",
       " '41401': 20,\n",
       " '4168': 21,\n",
       " '4240': 22,\n",
       " '4241': 23,\n",
       " '42731': 24,\n",
       " '42789': 25,\n",
       " '4280': 26,\n",
       " '45829': 27,\n",
       " '486': 28,\n",
       " '49390': 29,\n",
       " '496': 30,\n",
       " '5070': 31,\n",
       " '5119': 32,\n",
       " '5180': 33,\n",
       " '51881': 34,\n",
       " '53081': 35,\n",
       " '5845': 36,\n",
       " '5849': 37,\n",
       " '5859': 38,\n",
       " '5990': 39,\n",
       " '7742': 40,\n",
       " '78552': 41,\n",
       " '99592': 42,\n",
       " '9971': 43,\n",
       " 'V1582': 44,\n",
       " 'V290': 45,\n",
       " 'V4581': 46,\n",
       " 'V4582': 47,\n",
       " 'V5861': 48,\n",
       " 'V5867': 49}"
      ]
     },
     "execution_count": 33,
     "metadata": {},
     "output_type": "execute_result"
    }
   ],
   "source": [
    "code_to_idx"
   ]
  },
  {
   "cell_type": "markdown",
   "metadata": {},
   "source": [
    "### Remap ICD codes"
   ]
  },
  {
   "cell_type": "code",
   "execution_count": 37,
   "metadata": {},
   "outputs": [],
   "source": [
    "filtered_df[\"label\"] = filtered_df[\"icd_code\"].map(code_to_idx)"
   ]
  },
  {
   "cell_type": "code",
   "execution_count": 38,
   "metadata": {},
   "outputs": [
    {
     "data": {
      "text/html": [
       "<div>\n",
       "<style scoped>\n",
       "    .dataframe tbody tr th:only-of-type {\n",
       "        vertical-align: middle;\n",
       "    }\n",
       "\n",
       "    .dataframe tbody tr th {\n",
       "        vertical-align: top;\n",
       "    }\n",
       "\n",
       "    .dataframe thead th {\n",
       "        text-align: right;\n",
       "    }\n",
       "</style>\n",
       "<table border=\"1\" class=\"dataframe\">\n",
       "  <thead>\n",
       "    <tr style=\"text-align: right;\">\n",
       "      <th></th>\n",
       "      <th>text</th>\n",
       "      <th>icd_code</th>\n",
       "      <th>label</th>\n",
       "    </tr>\n",
       "  </thead>\n",
       "  <tbody>\n",
       "    <tr>\n",
       "      <th>0</th>\n",
       "      <td>admission date  2151716       discharge date  ...</td>\n",
       "      <td>42731</td>\n",
       "      <td>24</td>\n",
       "    </tr>\n",
       "    <tr>\n",
       "      <th>1</th>\n",
       "      <td>admission date  2151716       discharge date  ...</td>\n",
       "      <td>2762</td>\n",
       "      <td>7</td>\n",
       "    </tr>\n",
       "    <tr>\n",
       "      <th>2</th>\n",
       "      <td>admission date  2151716       discharge date  ...</td>\n",
       "      <td>5070</td>\n",
       "      <td>31</td>\n",
       "    </tr>\n",
       "    <tr>\n",
       "      <th>3</th>\n",
       "      <td>admission date  2151716       discharge date  ...</td>\n",
       "      <td>5119</td>\n",
       "      <td>32</td>\n",
       "    </tr>\n",
       "    <tr>\n",
       "      <th>4</th>\n",
       "      <td>admission date  211862       discharge date  2...</td>\n",
       "      <td>51881</td>\n",
       "      <td>34</td>\n",
       "    </tr>\n",
       "    <tr>\n",
       "      <th>...</th>\n",
       "      <td>...</td>\n",
       "      <td>...</td>\n",
       "      <td>...</td>\n",
       "    </tr>\n",
       "    <tr>\n",
       "      <th>256092</th>\n",
       "      <td>name  known lastname known firstname 133 j    ...</td>\n",
       "      <td>2724</td>\n",
       "      <td>4</td>\n",
       "    </tr>\n",
       "    <tr>\n",
       "      <th>256093</th>\n",
       "      <td>name  known lastname known firstname 133 j    ...</td>\n",
       "      <td>25000</td>\n",
       "      <td>2</td>\n",
       "    </tr>\n",
       "    <tr>\n",
       "      <th>256094</th>\n",
       "      <td>name  known lastname known firstname 133 j    ...</td>\n",
       "      <td>45829</td>\n",
       "      <td>27</td>\n",
       "    </tr>\n",
       "    <tr>\n",
       "      <th>256095</th>\n",
       "      <td>name  known lastname known firstname 133 j    ...</td>\n",
       "      <td>4241</td>\n",
       "      <td>23</td>\n",
       "    </tr>\n",
       "    <tr>\n",
       "      <th>256096</th>\n",
       "      <td>name  known lastname 12459known firstname  a  ...</td>\n",
       "      <td>2851</td>\n",
       "      <td>9</td>\n",
       "    </tr>\n",
       "  </tbody>\n",
       "</table>\n",
       "<p>256097 rows × 3 columns</p>\n",
       "</div>"
      ],
      "text/plain": [
       "                                                     text icd_code  label\n",
       "0       admission date  2151716       discharge date  ...    42731     24\n",
       "1       admission date  2151716       discharge date  ...     2762      7\n",
       "2       admission date  2151716       discharge date  ...     5070     31\n",
       "3       admission date  2151716       discharge date  ...     5119     32\n",
       "4       admission date  211862       discharge date  2...    51881     34\n",
       "...                                                   ...      ...    ...\n",
       "256092  name  known lastname known firstname 133 j    ...     2724      4\n",
       "256093  name  known lastname known firstname 133 j    ...    25000      2\n",
       "256094  name  known lastname known firstname 133 j    ...    45829     27\n",
       "256095  name  known lastname known firstname 133 j    ...     4241     23\n",
       "256096  name  known lastname 12459known firstname  a  ...     2851      9\n",
       "\n",
       "[256097 rows x 3 columns]"
      ]
     },
     "execution_count": 38,
     "metadata": {},
     "output_type": "execute_result"
    }
   ],
   "source": [
    "filtered_df"
   ]
  },
  {
   "cell_type": "markdown",
   "metadata": {},
   "source": [
    "### We'll use the dmis-lab/biobert-base-cased-v1.1 model from HuggingFace."
   ]
  },
  {
   "cell_type": "code",
   "execution_count": 41,
   "metadata": {},
   "outputs": [],
   "source": [
    "from transformers import AutoTokenizer\n",
    "\n",
    "tokenizer = AutoTokenizer.from_pretrained(\"dmis-lab/biobert-base-cased-v1.1\")\n",
    "\n",
    "def tokenize(texts, labels):\n",
    "    tokens = tokenizer(\n",
    "        list(texts),\n",
    "        padding=True,\n",
    "        truncation=True,\n",
    "        max_length=512,\n",
    "        return_tensors=\"pt\"\n",
    "    )\n",
    "    tokens[\"labels\"] = torch.tensor(labels.values, dtype=torch.long)\n",
    "    return tokens"
   ]
  },
  {
   "cell_type": "markdown",
   "metadata": {},
   "source": [
    "### Tokenize data"
   ]
  },
  {
   "cell_type": "code",
   "execution_count": 42,
   "metadata": {},
   "outputs": [],
   "source": [
    "train_tokens = tokenize(X_train, y_train_idx)\n",
    "val_tokens = tokenize(X_val, y_val_idx)"
   ]
  },
  {
   "cell_type": "markdown",
   "metadata": {},
   "source": [
    "### Create DataLoaders"
   ]
  },
  {
   "cell_type": "code",
   "execution_count": null,
   "metadata": {},
   "outputs": [],
   "source": [
    "\n",
    "train_dataset = TensorDataset(train_tokens[\"input_ids\"], train_tokens[\"attention_mask\"], train_tokens[\"labels\"])\n",
    "val_dataset = TensorDataset(val_tokens[\"input_ids\"], val_tokens[\"attention_mask\"], val_tokens[\"labels\"])\n",
    "\n",
    "train_loader = DataLoader(train_dataset, batch_size=16, shuffle=True)\n",
    "val_loader = DataLoader(val_dataset, batch_size=16)"
   ]
  },
  {
   "cell_type": "markdown",
   "metadata": {},
   "source": [
    "### Neural Network Model with BioBERT"
   ]
  },
  {
   "cell_type": "code",
   "execution_count": 16,
   "metadata": {},
   "outputs": [],
   "source": [
    "import torch\n",
    "from torch import nn\n",
    "from transformers import AutoModel\n",
    "\n",
    "class BioBERTClassifier(nn.Module):\n",
    "    def __init__(self, num_labels):\n",
    "        super(BioBERTClassifier, self).__init__()\n",
    "        self.bert = AutoModel.from_pretrained(\"dmis-lab/biobert-base-cased-v1.1\")\n",
    "        self.classifier = nn.Linear(self.bert.config.hidden_size, num_labels)\n",
    "\n",
    "    def forward(self, input_ids, attention_mask, labels=None):\n",
    "        outputs = self.bert(input_ids=input_ids, attention_mask=attention_mask)\n",
    "        cls_output = outputs.last_hidden_state[:, 0]  # CLS token\n",
    "        logits = self.classifier(cls_output)\n",
    "        loss = None\n",
    "        if labels is not None:\n",
    "            loss = nn.CrossEntropyLoss()(logits, labels)\n",
    "        return loss, logits\n"
   ]
  },
  {
   "cell_type": "markdown",
   "metadata": {},
   "source": []
  },
  {
   "cell_type": "markdown",
   "metadata": {},
   "source": [
    "### Tokenization should only be on [text]"
   ]
  },
  {
   "cell_type": "code",
   "execution_count": 21,
   "metadata": {},
   "outputs": [],
   "source": [
    "\n",
    "\n",
    "\n"
   ]
  },
  {
   "cell_type": "code",
   "execution_count": null,
   "metadata": {},
   "outputs": [],
   "source": []
  },
  {
   "cell_type": "markdown",
   "metadata": {},
   "source": [
    "### Train the model"
   ]
  },
  {
   "cell_type": "code",
   "execution_count": null,
   "metadata": {},
   "outputs": [],
   "source": [
    "device = torch.device(\"cuda\" if torch.cuda.is_available() else \"cpu\")\n",
    "model = BioBERTClassifier(num_labels=len(code_to_idx)).to(device)\n",
    "optimizer = torch.optim.AdamW(model.parameters(), lr=2e-5)\n",
    "\n",
    "for epoch in range(3):\n",
    "    model.train()\n",
    "    total_loss = 0\n",
    "    for batch in train_loader:\n",
    "        input_ids, attention_mask, labels = [b.to(device) for b in batch]\n",
    "        optimizer.zero_grad()\n",
    "        loss, _ = model(input_ids, attention_mask, labels)\n",
    "        loss.backward()\n",
    "        optimizer.step()\n",
    "        total_loss += loss.item()\n",
    "    print(f\"Epoch {epoch+1}, Loss: {total_loss:.4f}\")\n"
   ]
  },
  {
   "cell_type": "markdown",
   "metadata": {},
   "source": [
    "### Model Evaluation"
   ]
  },
  {
   "cell_type": "code",
   "execution_count": null,
   "metadata": {},
   "outputs": [],
   "source": [
    "from sklearn.metrics import classification_report\n",
    "\n",
    "model.eval()\n",
    "all_preds, all_labels = [], []\n",
    "\n",
    "with torch.no_grad():\n",
    "    for batch in val_loader:\n",
    "        input_ids, attention_mask, labels = [b.to(device) for b in batch]\n",
    "        _, logits = model(input_ids, attention_mask)\n",
    "        preds = torch.argmax(logits, dim=1)\n",
    "        all_preds.extend(preds.cpu().numpy())\n",
    "        all_labels.extend(labels.cpu().numpy())\n",
    "\n",
    "# Map back to ICD codes if needed\n",
    "predicted_codes = [idx_to_code[p] for p in all_preds]\n",
    "true_codes = [idx_to_code[t] for t in all_labels]\n",
    "\n",
    "print(classification_report(true_codes, predicted_codes))\n"
   ]
  }
 ],
 "metadata": {
  "kernelspec": {
   "display_name": "Python 3",
   "language": "python",
   "name": "python3"
  },
  "language_info": {
   "codemirror_mode": {
    "name": "ipython",
    "version": 3
   },
   "file_extension": ".py",
   "mimetype": "text/x-python",
   "name": "python",
   "nbconvert_exporter": "python",
   "pygments_lexer": "ipython3",
   "version": "3.12.2"
  }
 },
 "nbformat": 4,
 "nbformat_minor": 2
}
